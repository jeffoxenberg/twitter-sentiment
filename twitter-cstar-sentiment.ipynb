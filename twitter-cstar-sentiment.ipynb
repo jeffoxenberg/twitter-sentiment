{
 "cells": [
  {
   "cell_type": "markdown",
   "metadata": {},
   "source": [
    "## twitter-sentiment\n",
    "#### Jeff Oxenberg\n",
    "\n",
    "* Monitor a specific topic/set of topics on twitter, score sentiment of tweets using the vader model\n",
    "* Insert tweets into Cassandra\n",
    "* Cassandra table is indexed by Solr (using DataStax Enterprise)\n",
    "* Solr can be used to search for specific terms, get time-based averages, etc"
   ]
  },
  {
   "cell_type": "code",
   "execution_count": 19,
   "metadata": {
    "collapsed": false
   },
   "outputs": [],
   "source": [
    "from tweepy.streaming import StreamListener\n",
    "from tweepy import Stream\n",
    "from tweepy import OAuthHandler\n",
    "from cassandra.cluster import Cluster\n",
    "from cassandra.query import PreparedStatement\n",
    "from cassandra import ConsistencyLevel\n",
    "from nltk.sentiment.vader import SentimentIntensityAnalyzer\n",
    "from nltk import tokenize\n",
    "from urllib.request import urlopen\n",
    "import json\n",
    "import datetime\n",
    "import re"
   ]
  },
  {
   "cell_type": "code",
   "execution_count": 53,
   "metadata": {
    "collapsed": false
   },
   "outputs": [
    {
     "name": "stderr",
     "output_type": "stream",
     "text": [
      "WARNING:cassandra.cluster:[control connection] Error connecting to 172.17.136.42:\n",
      "Traceback (most recent call last):\n",
      "  File \"C:\\Anaconda3\\lib\\site-packages\\cassandra\\cluster.py\", line 2067, in _reconnect_internal\n",
      "    return self._try_connect(host)\n",
      "  File \"C:\\Anaconda3\\lib\\site-packages\\cassandra\\cluster.py\", line 2087, in _try_connect\n",
      "    connection = self._cluster.connection_factory(host.address, is_control_connection=True)\n",
      "  File \"C:\\Anaconda3\\lib\\site-packages\\cassandra\\cluster.py\", line 789, in connection_factory\n",
      "    return self.connection_class.factory(address, self.connect_timeout, *args, **kwargs)\n",
      "  File \"C:\\Anaconda3\\lib\\site-packages\\cassandra\\connection.py\", line 306, in factory\n",
      "    conn = cls(host, *args, **kwargs)\n",
      "  File \"C:\\Anaconda3\\lib\\site-packages\\cassandra\\io\\asyncorereactor.py\", line 162, in __init__\n",
      "    self._connect_socket()\n",
      "  File \"C:\\Anaconda3\\lib\\site-packages\\cassandra\\connection.py\", line 340, in _connect_socket\n",
      "    raise socket.error(sockerr.errno, \"Tried connecting to %s. Last error: %s\" % ([a[4] for a in addresses], sockerr.strerror or sockerr))\n",
      "OSError: [Errno 10065] Tried connecting to [('172.17.136.42', 9042)]. Last error: A socket operation was attempted to an unreachable host\n",
      "WARNING:cassandra.cluster:[control connection] Error connecting to 172.17.136.41:\n",
      "Traceback (most recent call last):\n",
      "  File \"C:\\Anaconda3\\lib\\site-packages\\cassandra\\cluster.py\", line 2067, in _reconnect_internal\n",
      "    return self._try_connect(host)\n",
      "  File \"C:\\Anaconda3\\lib\\site-packages\\cassandra\\cluster.py\", line 2087, in _try_connect\n",
      "    connection = self._cluster.connection_factory(host.address, is_control_connection=True)\n",
      "  File \"C:\\Anaconda3\\lib\\site-packages\\cassandra\\cluster.py\", line 789, in connection_factory\n",
      "    return self.connection_class.factory(address, self.connect_timeout, *args, **kwargs)\n",
      "  File \"C:\\Anaconda3\\lib\\site-packages\\cassandra\\connection.py\", line 306, in factory\n",
      "    conn = cls(host, *args, **kwargs)\n",
      "  File \"C:\\Anaconda3\\lib\\site-packages\\cassandra\\io\\asyncorereactor.py\", line 162, in __init__\n",
      "    self._connect_socket()\n",
      "  File \"C:\\Anaconda3\\lib\\site-packages\\cassandra\\connection.py\", line 340, in _connect_socket\n",
      "    raise socket.error(sockerr.errno, \"Tried connecting to %s. Last error: %s\" % ([a[4] for a in addresses], sockerr.strerror or sockerr))\n",
      "OSError: [Errno 10065] Tried connecting to [('172.17.136.41', 9042)]. Last error: A socket operation was attempted to an unreachable host\n",
      "WARNING:cassandra.connection:Heartbeat failed for connection (139328088) to 172.17.136.41\n",
      "Traceback (most recent call last):\n",
      "  File \"C:\\Anaconda3\\lib\\site-packages\\cassandra\\connection.py\", line 983, in run\n",
      "    f.wait(self._interval)\n",
      "  File \"C:\\Anaconda3\\lib\\site-packages\\cassandra\\connection.py\", line 923, in wait\n",
      "    raise self._exception\n",
      "cassandra.connection.ConnectionShutdown: Connection to 172.17.136.41 was closed\n",
      "WARNING:cassandra.connection:Heartbeat failed for connection (139325960) to 172.17.136.42\n",
      "Traceback (most recent call last):\n",
      "  File \"C:\\Anaconda3\\lib\\site-packages\\cassandra\\connection.py\", line 983, in run\n",
      "    f.wait(self._interval)\n",
      "  File \"C:\\Anaconda3\\lib\\site-packages\\cassandra\\connection.py\", line 923, in wait\n",
      "    raise self._exception\n",
      "cassandra.connection.ConnectionShutdown: Connection to 172.17.136.42 was closed\n",
      "WARNING:cassandra.cluster:Host 172.17.136.41 has been marked down\n",
      "WARNING:cassandra.cluster:Host 172.17.136.42 has been marked down\n"
     ]
    }
   ],
   "source": [
    "#supply your own values here\n",
    "key=x\n",
    "ksecret=x\n",
    "token=x\n",
    "tsecret=x\n",
    "\n",
    "#authenticate\n",
    "auth = OAuthHandler(key, ksecret)\n",
    "auth.set_access_token(token, tsecret)"
   ]
  },
  {
   "cell_type": "code",
   "execution_count": 14,
   "metadata": {
    "collapsed": true
   },
   "outputs": [],
   "source": [
    "sid = SentimentIntensityAnalyzer()"
   ]
  },
  {
   "cell_type": "code",
   "execution_count": 15,
   "metadata": {
    "collapsed": false
   },
   "outputs": [
    {
     "name": "stderr",
     "output_type": "stream",
     "text": [
      "ERROR:cassandra.connection:Closing connection <AsyncoreConnection(139271472) 172.17.136.41:9042> due to protocol error: code=000a [Protocol error] message=\"Invalid or unsupported protocol version: 4\"\n",
      "WARNING:cassandra.cluster:Downgrading core protocol version from 4 to 3 for 172.17.136.41\n"
     ]
    }
   ],
   "source": [
    "cluster = Cluster(['localhost'])\n",
    "session = cluster.connect('tweets')"
   ]
  },
  {
   "cell_type": "code",
   "execution_count": 16,
   "metadata": {
    "collapsed": false
   },
   "outputs": [],
   "source": [
    "insert = session.prepare(\"INSERT INTO tweets (id, timestamp, text, weight) VALUES (?,?,?,?)\")\n",
    "insert.consistency_level = ConsistencyLevel.ONE"
   ]
  },
  {
   "cell_type": "code",
   "execution_count": 17,
   "metadata": {
    "collapsed": false
   },
   "outputs": [],
   "source": [
    "class listener(StreamListener):\n",
    "\n",
    "    def on_data(self, data):\n",
    "        d = json.loads(data)\n",
    "        ctext = re.sub(r\"http\\S+\", \"\", d[\"text\"].strip())\n",
    "        sent = sid.polarity_scores(ctext) \n",
    "        #tuple (id,created_at,text,sentiment(-1 to 1))\n",
    "        x = (d[\"id\"],datetime.datetime.strptime(d[\"created_at\"], \"%a %b %d %H:%M:%S %z %Y\"),ctext,sent[\"compound\"])\n",
    "        #print(x)\n",
    "        session.execute(insert, x)\n",
    "        return(True)\n",
    "\n",
    "    def on_error(self, errcode):\n",
    "        print(errcode)"
   ]
  },
  {
   "cell_type": "code",
   "execution_count": 9,
   "metadata": {
    "collapsed": false
   },
   "outputs": [
    {
     "name": "stderr",
     "output_type": "stream",
     "text": [
      "ERROR:cassandra.connection:Exception while servicing timeout callback: \n",
      "Traceback (most recent call last):\n",
      "  File \"C:\\Anaconda3\\lib\\site-packages\\cassandra\\connection.py\", line 1068, in service_timeouts\n",
      "    heappop(queue)\n",
      "TypeError: unorderable types: Timer() < Timer()\n",
      "WARNING:cassandra.connection:Heartbeat failed for connection (140138760) to 172.17.136.41\n",
      "Traceback (most recent call last):\n",
      "  File \"C:\\Anaconda3\\lib\\site-packages\\cassandra\\connection.py\", line 983, in run\n",
      "    f.wait(self._interval)\n",
      "  File \"C:\\Anaconda3\\lib\\site-packages\\cassandra\\connection.py\", line 925, in wait\n",
      "    raise OperationTimedOut()\n",
      "cassandra.OperationTimedOut: errors=None, last_host=None\n",
      "WARNING:cassandra.connection:Heartbeat failed for connection (139930704) to 172.17.136.41\n",
      "Traceback (most recent call last):\n",
      "  File \"C:\\Anaconda3\\lib\\site-packages\\cassandra\\connection.py\", line 983, in run\n",
      "    f.wait(self._interval)\n",
      "  File \"C:\\Anaconda3\\lib\\site-packages\\cassandra\\connection.py\", line 925, in wait\n",
      "    raise OperationTimedOut()\n",
      "cassandra.OperationTimedOut: errors=None, last_host=None\n",
      "WARNING:cassandra.cluster:Host 172.17.136.41 has been marked down\n",
      "ERROR:cassandra.connection:Exception while servicing timeout callback: \n",
      "Traceback (most recent call last):\n",
      "  File \"C:\\Anaconda3\\lib\\site-packages\\cassandra\\connection.py\", line 1068, in service_timeouts\n",
      "    heappop(queue)\n",
      "TypeError: unorderable types: Timer() < Timer()\n",
      "ERROR:cassandra.connection:Exception while servicing timeout callback: \n",
      "Traceback (most recent call last):\n",
      "  File \"C:\\Anaconda3\\lib\\site-packages\\cassandra\\connection.py\", line 1068, in service_timeouts\n",
      "    heappop(queue)\n",
      "TypeError: unorderable types: Timer() < Timer()\n",
      "ERROR:cassandra.connection:Exception while servicing timeout callback: \n",
      "Traceback (most recent call last):\n",
      "  File \"C:\\Anaconda3\\lib\\site-packages\\cassandra\\connection.py\", line 1068, in service_timeouts\n",
      "    heappop(queue)\n",
      "TypeError: unorderable types: Timer() < Timer()\n",
      "ERROR:cassandra.connection:Exception while servicing timeout callback: \n",
      "Traceback (most recent call last):\n",
      "  File \"C:\\Anaconda3\\lib\\site-packages\\cassandra\\connection.py\", line 1068, in service_timeouts\n",
      "    heappop(queue)\n",
      "TypeError: unorderable types: Timer() < Timer()\n",
      "WARNING:cassandra.connection:Heartbeat failed for connection (143666704) to 172.17.136.41\n",
      "Traceback (most recent call last):\n",
      "  File \"C:\\Anaconda3\\lib\\site-packages\\cassandra\\connection.py\", line 983, in run\n",
      "    f.wait(self._interval)\n",
      "  File \"C:\\Anaconda3\\lib\\site-packages\\cassandra\\connection.py\", line 925, in wait\n",
      "    raise OperationTimedOut()\n",
      "cassandra.OperationTimedOut: errors=None, last_host=None\n",
      "WARNING:cassandra.connection:Heartbeat failed for connection (140139936) to 172.17.136.42\n",
      "Traceback (most recent call last):\n",
      "  File \"C:\\Anaconda3\\lib\\site-packages\\cassandra\\connection.py\", line 983, in run\n",
      "    f.wait(self._interval)\n",
      "  File \"C:\\Anaconda3\\lib\\site-packages\\cassandra\\connection.py\", line 925, in wait\n",
      "    raise OperationTimedOut()\n",
      "cassandra.OperationTimedOut: errors=None, last_host=None\n",
      "WARNING:cassandra.connection:Heartbeat failed for connection (142492504) to 172.17.136.42\n",
      "Traceback (most recent call last):\n",
      "  File \"C:\\Anaconda3\\lib\\site-packages\\cassandra\\connection.py\", line 983, in run\n",
      "    f.wait(self._interval)\n",
      "  File \"C:\\Anaconda3\\lib\\site-packages\\cassandra\\connection.py\", line 925, in wait\n",
      "    raise OperationTimedOut()\n",
      "cassandra.OperationTimedOut: errors=None, last_host=None\n",
      "WARNING:cassandra.cluster:Host 172.17.136.41 has been marked down\n",
      "WARNING:cassandra.cluster:Host 172.17.136.42 has been marked down\n",
      "Exception in thread Task Scheduler:\n",
      "Traceback (most recent call last):\n",
      "  File \"C:\\Anaconda3\\lib\\threading.py\", line 914, in _bootstrap_inner\n",
      "    self.run()\n",
      "  File \"C:\\Anaconda3\\lib\\threading.py\", line 862, in run\n",
      "    self._target(*self._args, **self._kwargs)\n",
      "  File \"C:\\Anaconda3\\lib\\site-packages\\cassandra\\cluster.py\", line 2597, in run\n",
      "    self._queue.put_nowait((run_at, task))\n",
      "  File \"C:\\Anaconda3\\lib\\queue.py\", line 184, in put_nowait\n",
      "    return self.put(item, block=False)\n",
      "  File \"C:\\Anaconda3\\lib\\queue.py\", line 143, in put\n",
      "    self._put(item)\n",
      "  File \"C:\\Anaconda3\\lib\\queue.py\", line 227, in _put\n",
      "    heappush(self.queue, item)\n",
      "TypeError: unorderable types: method() < method()\n",
      "\n"
     ]
    },
    {
     "ename": "NoHostAvailable",
     "evalue": "('Unable to complete the operation against any hosts', {})",
     "output_type": "error",
     "traceback": [
      "\u001b[1;31m---------------------------------------------------------------------------\u001b[0m",
      "\u001b[1;31mNoHostAvailable\u001b[0m                           Traceback (most recent call last)",
      "\u001b[1;32m<ipython-input-9-aa30273ed980>\u001b[0m in \u001b[0;36m<module>\u001b[1;34m()\u001b[0m\n\u001b[0;32m      3\u001b[0m \u001b[1;33m\u001b[0m\u001b[0m\n\u001b[0;32m      4\u001b[0m \u001b[0mstreamer\u001b[0m \u001b[1;33m=\u001b[0m \u001b[0mStream\u001b[0m\u001b[1;33m(\u001b[0m\u001b[0mauth\u001b[0m\u001b[1;33m,\u001b[0m \u001b[0mlistener\u001b[0m\u001b[1;33m(\u001b[0m\u001b[1;33m)\u001b[0m\u001b[1;33m)\u001b[0m\u001b[1;33m\u001b[0m\u001b[0m\n\u001b[1;32m----> 5\u001b[1;33m \u001b[0mstreamer\u001b[0m\u001b[1;33m.\u001b[0m\u001b[0mfilter\u001b[0m\u001b[1;33m(\u001b[0m\u001b[0mtrack\u001b[0m\u001b[1;33m=\u001b[0m\u001b[1;33m[\u001b[0m\u001b[1;34m\"uber\"\u001b[0m\u001b[1;33m]\u001b[0m\u001b[1;33m)\u001b[0m\u001b[1;33m\u001b[0m\u001b[0m\n\u001b[0m",
      "\u001b[1;32mC:\\Anaconda3\\lib\\site-packages\\tweepy\\streaming.py\u001b[0m in \u001b[0;36mfilter\u001b[1;34m(self, follow, track, async, locations, stall_warnings, languages, encoding, filter_level)\u001b[0m\n\u001b[0;32m    443\u001b[0m         \u001b[0mself\u001b[0m\u001b[1;33m.\u001b[0m\u001b[0msession\u001b[0m\u001b[1;33m.\u001b[0m\u001b[0mparams\u001b[0m \u001b[1;33m=\u001b[0m \u001b[1;33m{\u001b[0m\u001b[1;34m'delimited'\u001b[0m\u001b[1;33m:\u001b[0m \u001b[1;34m'length'\u001b[0m\u001b[1;33m}\u001b[0m\u001b[1;33m\u001b[0m\u001b[0m\n\u001b[0;32m    444\u001b[0m         \u001b[0mself\u001b[0m\u001b[1;33m.\u001b[0m\u001b[0mhost\u001b[0m \u001b[1;33m=\u001b[0m \u001b[1;34m'stream.twitter.com'\u001b[0m\u001b[1;33m\u001b[0m\u001b[0m\n\u001b[1;32m--> 445\u001b[1;33m         \u001b[0mself\u001b[0m\u001b[1;33m.\u001b[0m\u001b[0m_start\u001b[0m\u001b[1;33m(\u001b[0m\u001b[0masync\u001b[0m\u001b[1;33m)\u001b[0m\u001b[1;33m\u001b[0m\u001b[0m\n\u001b[0m\u001b[0;32m    446\u001b[0m \u001b[1;33m\u001b[0m\u001b[0m\n\u001b[0;32m    447\u001b[0m     def sitestream(self, follow, stall_warnings=False,\n",
      "\u001b[1;32mC:\\Anaconda3\\lib\\site-packages\\tweepy\\streaming.py\u001b[0m in \u001b[0;36m_start\u001b[1;34m(self, async)\u001b[0m\n\u001b[0;32m    359\u001b[0m             \u001b[0mself\u001b[0m\u001b[1;33m.\u001b[0m\u001b[0m_thread\u001b[0m\u001b[1;33m.\u001b[0m\u001b[0mstart\u001b[0m\u001b[1;33m(\u001b[0m\u001b[1;33m)\u001b[0m\u001b[1;33m\u001b[0m\u001b[0m\n\u001b[0;32m    360\u001b[0m         \u001b[1;32melse\u001b[0m\u001b[1;33m:\u001b[0m\u001b[1;33m\u001b[0m\u001b[0m\n\u001b[1;32m--> 361\u001b[1;33m             \u001b[0mself\u001b[0m\u001b[1;33m.\u001b[0m\u001b[0m_run\u001b[0m\u001b[1;33m(\u001b[0m\u001b[1;33m)\u001b[0m\u001b[1;33m\u001b[0m\u001b[0m\n\u001b[0m\u001b[0;32m    362\u001b[0m \u001b[1;33m\u001b[0m\u001b[0m\n\u001b[0;32m    363\u001b[0m     \u001b[1;32mdef\u001b[0m \u001b[0mon_closed\u001b[0m\u001b[1;33m(\u001b[0m\u001b[0mself\u001b[0m\u001b[1;33m,\u001b[0m \u001b[0mresp\u001b[0m\u001b[1;33m)\u001b[0m\u001b[1;33m:\u001b[0m\u001b[1;33m\u001b[0m\u001b[0m\n",
      "\u001b[1;32mC:\\Anaconda3\\lib\\site-packages\\tweepy\\streaming.py\u001b[0m in \u001b[0;36m_run\u001b[1;34m(self)\u001b[0m\n\u001b[0;32m    292\u001b[0m             \u001b[1;31m# call a handler first so that the exception can be logged.\u001b[0m\u001b[1;33m\u001b[0m\u001b[1;33m\u001b[0m\u001b[0m\n\u001b[0;32m    293\u001b[0m             \u001b[0mself\u001b[0m\u001b[1;33m.\u001b[0m\u001b[0mlistener\u001b[0m\u001b[1;33m.\u001b[0m\u001b[0mon_exception\u001b[0m\u001b[1;33m(\u001b[0m\u001b[0mexception\u001b[0m\u001b[1;33m)\u001b[0m\u001b[1;33m\u001b[0m\u001b[0m\n\u001b[1;32m--> 294\u001b[1;33m             \u001b[1;32mraise\u001b[0m \u001b[0mexception\u001b[0m\u001b[1;33m\u001b[0m\u001b[0m\n\u001b[0m\u001b[0;32m    295\u001b[0m \u001b[1;33m\u001b[0m\u001b[0m\n\u001b[0;32m    296\u001b[0m     \u001b[1;32mdef\u001b[0m \u001b[0m_data\u001b[0m\u001b[1;33m(\u001b[0m\u001b[0mself\u001b[0m\u001b[1;33m,\u001b[0m \u001b[0mdata\u001b[0m\u001b[1;33m)\u001b[0m\u001b[1;33m:\u001b[0m\u001b[1;33m\u001b[0m\u001b[0m\n",
      "\u001b[1;32mC:\\Anaconda3\\lib\\site-packages\\tweepy\\streaming.py\u001b[0m in \u001b[0;36m_run\u001b[1;34m(self)\u001b[0m\n\u001b[0;32m    261\u001b[0m                     \u001b[0mself\u001b[0m\u001b[1;33m.\u001b[0m\u001b[0msnooze_time\u001b[0m \u001b[1;33m=\u001b[0m \u001b[0mself\u001b[0m\u001b[1;33m.\u001b[0m\u001b[0msnooze_time_step\u001b[0m\u001b[1;33m\u001b[0m\u001b[0m\n\u001b[0;32m    262\u001b[0m                     \u001b[0mself\u001b[0m\u001b[1;33m.\u001b[0m\u001b[0mlistener\u001b[0m\u001b[1;33m.\u001b[0m\u001b[0mon_connect\u001b[0m\u001b[1;33m(\u001b[0m\u001b[1;33m)\u001b[0m\u001b[1;33m\u001b[0m\u001b[0m\n\u001b[1;32m--> 263\u001b[1;33m                     \u001b[0mself\u001b[0m\u001b[1;33m.\u001b[0m\u001b[0m_read_loop\u001b[0m\u001b[1;33m(\u001b[0m\u001b[0mresp\u001b[0m\u001b[1;33m)\u001b[0m\u001b[1;33m\u001b[0m\u001b[0m\n\u001b[0m\u001b[0;32m    264\u001b[0m             \u001b[1;32mexcept\u001b[0m \u001b[1;33m(\u001b[0m\u001b[0mTimeout\u001b[0m\u001b[1;33m,\u001b[0m \u001b[0mssl\u001b[0m\u001b[1;33m.\u001b[0m\u001b[0mSSLError\u001b[0m\u001b[1;33m)\u001b[0m \u001b[1;32mas\u001b[0m \u001b[0mexc\u001b[0m\u001b[1;33m:\u001b[0m\u001b[1;33m\u001b[0m\u001b[0m\n\u001b[0;32m    265\u001b[0m                 \u001b[1;31m# This is still necessary, as a SSLError can actually be\u001b[0m\u001b[1;33m\u001b[0m\u001b[1;33m\u001b[0m\u001b[0m\n",
      "\u001b[1;32mC:\\Anaconda3\\lib\\site-packages\\tweepy\\streaming.py\u001b[0m in \u001b[0;36m_read_loop\u001b[1;34m(self, resp)\u001b[0m\n\u001b[0;32m    322\u001b[0m             \u001b[0mnext_status_obj\u001b[0m \u001b[1;33m=\u001b[0m \u001b[0mbuf\u001b[0m\u001b[1;33m.\u001b[0m\u001b[0mread_len\u001b[0m\u001b[1;33m(\u001b[0m\u001b[0mlength\u001b[0m\u001b[1;33m)\u001b[0m\u001b[1;33m\u001b[0m\u001b[0m\n\u001b[0;32m    323\u001b[0m             \u001b[1;32mif\u001b[0m \u001b[0mself\u001b[0m\u001b[1;33m.\u001b[0m\u001b[0mrunning\u001b[0m\u001b[1;33m:\u001b[0m\u001b[1;33m\u001b[0m\u001b[0m\n\u001b[1;32m--> 324\u001b[1;33m                 \u001b[0mself\u001b[0m\u001b[1;33m.\u001b[0m\u001b[0m_data\u001b[0m\u001b[1;33m(\u001b[0m\u001b[0mnext_status_obj\u001b[0m\u001b[1;33m)\u001b[0m\u001b[1;33m\u001b[0m\u001b[0m\n\u001b[0m\u001b[0;32m    325\u001b[0m \u001b[1;33m\u001b[0m\u001b[0m\n\u001b[0;32m    326\u001b[0m             \u001b[1;31m# # Note: keep-alive newlines might be inserted before each length value.\u001b[0m\u001b[1;33m\u001b[0m\u001b[1;33m\u001b[0m\u001b[0m\n",
      "\u001b[1;32mC:\\Anaconda3\\lib\\site-packages\\tweepy\\streaming.py\u001b[0m in \u001b[0;36m_data\u001b[1;34m(self, data)\u001b[0m\n\u001b[0;32m    295\u001b[0m \u001b[1;33m\u001b[0m\u001b[0m\n\u001b[0;32m    296\u001b[0m     \u001b[1;32mdef\u001b[0m \u001b[0m_data\u001b[0m\u001b[1;33m(\u001b[0m\u001b[0mself\u001b[0m\u001b[1;33m,\u001b[0m \u001b[0mdata\u001b[0m\u001b[1;33m)\u001b[0m\u001b[1;33m:\u001b[0m\u001b[1;33m\u001b[0m\u001b[0m\n\u001b[1;32m--> 297\u001b[1;33m         \u001b[1;32mif\u001b[0m \u001b[0mself\u001b[0m\u001b[1;33m.\u001b[0m\u001b[0mlistener\u001b[0m\u001b[1;33m.\u001b[0m\u001b[0mon_data\u001b[0m\u001b[1;33m(\u001b[0m\u001b[0mdata\u001b[0m\u001b[1;33m)\u001b[0m \u001b[1;32mis\u001b[0m \u001b[1;32mFalse\u001b[0m\u001b[1;33m:\u001b[0m\u001b[1;33m\u001b[0m\u001b[0m\n\u001b[0m\u001b[0;32m    298\u001b[0m             \u001b[0mself\u001b[0m\u001b[1;33m.\u001b[0m\u001b[0mrunning\u001b[0m \u001b[1;33m=\u001b[0m \u001b[1;32mFalse\u001b[0m\u001b[1;33m\u001b[0m\u001b[0m\n\u001b[0;32m    299\u001b[0m \u001b[1;33m\u001b[0m\u001b[0m\n",
      "\u001b[1;32m<ipython-input-7-de1674a70001>\u001b[0m in \u001b[0;36mon_data\u001b[1;34m(self, data)\u001b[0m\n\u001b[0;32m      8\u001b[0m         \u001b[0mx\u001b[0m \u001b[1;33m=\u001b[0m \u001b[1;33m(\u001b[0m\u001b[0md\u001b[0m\u001b[1;33m[\u001b[0m\u001b[1;34m\"id\"\u001b[0m\u001b[1;33m]\u001b[0m\u001b[1;33m,\u001b[0m\u001b[0mdatetime\u001b[0m\u001b[1;33m.\u001b[0m\u001b[0mdatetime\u001b[0m\u001b[1;33m.\u001b[0m\u001b[0mstrptime\u001b[0m\u001b[1;33m(\u001b[0m\u001b[0md\u001b[0m\u001b[1;33m[\u001b[0m\u001b[1;34m\"created_at\"\u001b[0m\u001b[1;33m]\u001b[0m\u001b[1;33m,\u001b[0m \u001b[1;34m\"%a %b %d %H:%M:%S %z %Y\"\u001b[0m\u001b[1;33m)\u001b[0m\u001b[1;33m,\u001b[0m\u001b[0mctext\u001b[0m\u001b[1;33m,\u001b[0m\u001b[0msent\u001b[0m\u001b[1;33m[\u001b[0m\u001b[1;34m\"compound\"\u001b[0m\u001b[1;33m]\u001b[0m\u001b[1;33m)\u001b[0m\u001b[1;33m\u001b[0m\u001b[0m\n\u001b[0;32m      9\u001b[0m         \u001b[1;31m#print(x)\u001b[0m\u001b[1;33m\u001b[0m\u001b[1;33m\u001b[0m\u001b[0m\n\u001b[1;32m---> 10\u001b[1;33m         \u001b[0msession\u001b[0m\u001b[1;33m.\u001b[0m\u001b[0mexecute\u001b[0m\u001b[1;33m(\u001b[0m\u001b[0minsert\u001b[0m\u001b[1;33m,\u001b[0m \u001b[0mx\u001b[0m\u001b[1;33m)\u001b[0m\u001b[1;33m\u001b[0m\u001b[0m\n\u001b[0m\u001b[0;32m     11\u001b[0m         \u001b[1;32mreturn\u001b[0m\u001b[1;33m(\u001b[0m\u001b[1;32mTrue\u001b[0m\u001b[1;33m)\u001b[0m\u001b[1;33m\u001b[0m\u001b[0m\n\u001b[0;32m     12\u001b[0m \u001b[1;33m\u001b[0m\u001b[0m\n",
      "\u001b[1;32mC:\\Anaconda3\\lib\\site-packages\\cassandra\\cluster.py\u001b[0m in \u001b[0;36mexecute\u001b[1;34m(self, query, parameters, timeout, trace, custom_payload)\u001b[0m\n\u001b[0;32m   1567\u001b[0m         \u001b[0mwill\u001b[0m \u001b[0mbe\u001b[0m \u001b[0ma\u001b[0m \u001b[0munion\u001b[0m \u001b[0mof\u001b[0m \u001b[0mthe\u001b[0m \u001b[0mtwo\u001b[0m\u001b[1;33m,\u001b[0m \u001b[1;32mwith\u001b[0m \u001b[0mthe\u001b[0m \u001b[0mvalues\u001b[0m \u001b[0mspecified\u001b[0m \u001b[0mhere\u001b[0m \u001b[0mtaking\u001b[0m \u001b[0mprecedence\u001b[0m\u001b[1;33m.\u001b[0m\u001b[1;33m\u001b[0m\u001b[0m\n\u001b[0;32m   1568\u001b[0m         \"\"\"\n\u001b[1;32m-> 1569\u001b[1;33m         \u001b[1;32mreturn\u001b[0m \u001b[0mself\u001b[0m\u001b[1;33m.\u001b[0m\u001b[0mexecute_async\u001b[0m\u001b[1;33m(\u001b[0m\u001b[0mquery\u001b[0m\u001b[1;33m,\u001b[0m \u001b[0mparameters\u001b[0m\u001b[1;33m,\u001b[0m \u001b[0mtrace\u001b[0m\u001b[1;33m,\u001b[0m \u001b[0mcustom_payload\u001b[0m\u001b[1;33m,\u001b[0m \u001b[0mtimeout\u001b[0m\u001b[1;33m)\u001b[0m\u001b[1;33m.\u001b[0m\u001b[0mresult\u001b[0m\u001b[1;33m(\u001b[0m\u001b[1;33m)\u001b[0m\u001b[1;33m\u001b[0m\u001b[0m\n\u001b[0m\u001b[0;32m   1570\u001b[0m \u001b[1;33m\u001b[0m\u001b[0m\n\u001b[0;32m   1571\u001b[0m     \u001b[1;32mdef\u001b[0m \u001b[0mexecute_async\u001b[0m\u001b[1;33m(\u001b[0m\u001b[0mself\u001b[0m\u001b[1;33m,\u001b[0m \u001b[0mquery\u001b[0m\u001b[1;33m,\u001b[0m \u001b[0mparameters\u001b[0m\u001b[1;33m=\u001b[0m\u001b[1;32mNone\u001b[0m\u001b[1;33m,\u001b[0m \u001b[0mtrace\u001b[0m\u001b[1;33m=\u001b[0m\u001b[1;32mFalse\u001b[0m\u001b[1;33m,\u001b[0m \u001b[0mcustom_payload\u001b[0m\u001b[1;33m=\u001b[0m\u001b[1;32mNone\u001b[0m\u001b[1;33m,\u001b[0m \u001b[0mtimeout\u001b[0m\u001b[1;33m=\u001b[0m\u001b[0m_NOT_SET\u001b[0m\u001b[1;33m)\u001b[0m\u001b[1;33m:\u001b[0m\u001b[1;33m\u001b[0m\u001b[0m\n",
      "\u001b[1;32mC:\\Anaconda3\\lib\\site-packages\\cassandra\\cluster.py\u001b[0m in \u001b[0;36mresult\u001b[1;34m(self)\u001b[0m\n\u001b[0;32m   3120\u001b[0m             \u001b[1;32mreturn\u001b[0m \u001b[0mResultSet\u001b[0m\u001b[1;33m(\u001b[0m\u001b[0mself\u001b[0m\u001b[1;33m,\u001b[0m \u001b[0mself\u001b[0m\u001b[1;33m.\u001b[0m\u001b[0m_final_result\u001b[0m\u001b[1;33m)\u001b[0m\u001b[1;33m\u001b[0m\u001b[0m\n\u001b[0;32m   3121\u001b[0m         \u001b[1;32melse\u001b[0m\u001b[1;33m:\u001b[0m\u001b[1;33m\u001b[0m\u001b[0m\n\u001b[1;32m-> 3122\u001b[1;33m             \u001b[1;32mraise\u001b[0m \u001b[0mself\u001b[0m\u001b[1;33m.\u001b[0m\u001b[0m_final_exception\u001b[0m\u001b[1;33m\u001b[0m\u001b[0m\n\u001b[0m\u001b[0;32m   3123\u001b[0m \u001b[1;33m\u001b[0m\u001b[0m\n\u001b[0;32m   3124\u001b[0m     \u001b[1;32mdef\u001b[0m \u001b[0mget_query_trace_ids\u001b[0m\u001b[1;33m(\u001b[0m\u001b[0mself\u001b[0m\u001b[1;33m)\u001b[0m\u001b[1;33m:\u001b[0m\u001b[1;33m\u001b[0m\u001b[0m\n",
      "\u001b[1;31mNoHostAvailable\u001b[0m: ('Unable to complete the operation against any hosts', {})"
     ]
    }
   ],
   "source": [
    "#start the stream of tweets, filter on topic\n",
    "streamer = Stream(auth, listener())\n",
    "streamer.filter(track=[\"test\"])"
   ]
  },
  {
   "cell_type": "code",
   "execution_count": null,
   "metadata": {
    "collapsed": true
   },
   "outputs": [],
   "source": []
  },
  {
   "cell_type": "code",
   "execution_count": null,
   "metadata": {
    "collapsed": true
   },
   "outputs": [],
   "source": []
  },
  {
   "cell_type": "code",
   "execution_count": null,
   "metadata": {
    "collapsed": true
   },
   "outputs": [],
   "source": []
  },
  {
   "cell_type": "markdown",
   "metadata": {},
   "source": [
    "## Solr Queries\n",
    "Query the solr instance to get aggregate sentiment for a particular date range"
   ]
  },
  {
   "cell_type": "code",
   "execution_count": 51,
   "metadata": {
    "collapsed": false
   },
   "outputs": [],
   "source": [
    "cx = urlopen(\"http://172.17.136.41:8983/solr/tweets.tweets/select?q=timestamp:[\\\"2016-02-09T17:23:29Z\\\"+TO+\\\"2016-02-09T17:24:29Z\\\"]\\\n",
    "&stats=true&stats.field=weight&rows=0&wt=json\").read()\n",
    "d = json.loads(cx.decode())"
   ]
  },
  {
   "cell_type": "code",
   "execution_count": 52,
   "metadata": {
    "collapsed": false
   },
   "outputs": [
    {
     "data": {
      "text/plain": [
       "0.0558525431838076"
      ]
     },
     "execution_count": 52,
     "metadata": {},
     "output_type": "execute_result"
    }
   ],
   "source": [
    "d[\"stats\"][\"stats_fields\"][\"weight\"][\"mean\"]"
   ]
  },
  {
   "cell_type": "code",
   "execution_count": null,
   "metadata": {
    "collapsed": true
   },
   "outputs": [],
   "source": [
    "#add some more interesting queries"
   ]
  },
  {
   "cell_type": "markdown",
   "metadata": {},
   "source": [
    "## Graphs"
   ]
  },
  {
   "cell_type": "code",
   "execution_count": null,
   "metadata": {
    "collapsed": true
   },
   "outputs": [],
   "source": [
    "#add some interesting graphs here"
   ]
  },
  {
   "cell_type": "code",
   "execution_count": null,
   "metadata": {
    "collapsed": true
   },
   "outputs": [],
   "source": []
  },
  {
   "cell_type": "markdown",
   "metadata": {},
   "source": [
    "## Data Model"
   ]
  },
  {
   "cell_type": "code",
   "execution_count": null,
   "metadata": {
    "collapsed": true
   },
   "outputs": [],
   "source": [
    "'''\n",
    "cqlsh:tweets> DESC tweets\n",
    "\n",
    "CREATE KEYSPACE tweets WITH replication = {'class': 'NetworkTopologyStrategy', 'Cassandra': '2', 'Solr': '1'} \\\n",
    "AND durable_writes = true;\n",
    "\n",
    "CREATE TABLE tweets.tweets (\n",
    "    id varint,\n",
    "    timestamp timestamp,\n",
    "    solr_query text,\n",
    "    text text,\n",
    "    weight float,\n",
    "    PRIMARY KEY (id, timestamp)\n",
    ") WITH CLUSTERING ORDER BY (timestamp ASC)\n",
    "    AND bloom_filter_fp_chance = 0.01\n",
    "    AND caching = '{\"keys\":\"ALL\", \"rows_per_partition\":\"NONE\"}'\n",
    "    AND comment = ''\n",
    "    AND compaction = {'class': 'org.apache.cassandra.db.compaction.SizeTieredCompactionStrategy'}\n",
    "    AND compression = {'sstable_compression': 'org.apache.cassandra.io.compress.LZ4Compressor'}\n",
    "    AND dclocal_read_repair_chance = 0.1\n",
    "    AND default_time_to_live = 0\n",
    "    AND gc_grace_seconds = 864000\n",
    "    AND max_index_interval = 2048\n",
    "    AND memtable_flush_period_in_ms = 0\n",
    "    AND min_index_interval = 128\n",
    "    AND read_repair_chance = 0.0\n",
    "    AND speculative_retry = '99.0PERCENTILE';\n",
    "'''"
   ]
  },
  {
   "cell_type": "markdown",
   "metadata": {},
   "source": [
    "## Resources"
   ]
  },
  {
   "cell_type": "code",
   "execution_count": null,
   "metadata": {
    "collapsed": true
   },
   "outputs": [],
   "source": [
    "Hutto, C.J. & Gilbert, E.E. (2014). VADER: A Parsimonious Rule-based Model for Sentiment Analysis of Social Media Text.\\\n",
    "    Eighth International Conference on Weblogs and Social Media (ICWSM-14). Ann Arbor, MI, June 2014. "
   ]
  }
 ],
 "metadata": {
  "kernelspec": {
   "display_name": "Python 3",
   "language": "python",
   "name": "python3"
  },
  "language_info": {
   "codemirror_mode": {
    "name": "ipython",
    "version": 3
   },
   "file_extension": ".py",
   "mimetype": "text/x-python",
   "name": "python",
   "nbconvert_exporter": "python",
   "pygments_lexer": "ipython3",
   "version": "3.5.1"
  }
 },
 "nbformat": 4,
 "nbformat_minor": 0
}

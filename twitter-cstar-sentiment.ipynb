{
 "cells": [
  {
   "cell_type": "markdown",
   "metadata": {},
   "source": [
    "## twitter-sentiment\n",
    "#### Jeff Oxenberg\n",
    "\n",
    "* Monitor a specific topic/set of topics on twitter, score sentiment of tweets using the vader model\n",
    "* Insert tweets into Cassandra\n",
    "* Cassandra table is indexed by Solr (using DataStax Enterprise)\n",
    "* Solr can be used to search for specific terms, get time-based averages, etc"
   ]
  },
  {
   "cell_type": "code",
   "execution_count": 2,
   "metadata": {
    "collapsed": false
   },
   "outputs": [],
   "source": [
    "from tweepy.streaming import StreamListener\n",
    "from tweepy import Stream, OAuthHandler\n",
    "from cassandra.cluster import Cluster\n",
    "from cassandra.query import PreparedStatement\n",
    "from cassandra import ConsistencyLevel\n",
    "from nltk.sentiment.vader import SentimentIntensityAnalyzer\n",
    "from nltk import tokenize\n",
    "from urllib.request import urlopen\n",
    "import json\n",
    "import datetime\n",
    "import re\n",
    "import pandas as pd\n",
    "from pandas.io.json import json_normalize\n",
    "from bokeh.io import output_notebook, show\n",
    "from bokeh.plotting import figure"
   ]
  },
  {
   "cell_type": "code",
   "execution_count": 3,
   "metadata": {
    "collapsed": false
   },
   "outputs": [],
   "source": [
    "key=\"\"\n",
    "ksecret=\"\"\n",
    "token=\"\"\n",
    "tsecret=\"\"\n",
    "\n",
    "#authenticate\n",
    "auth = OAuthHandler(key, ksecret)\n",
    "auth.set_access_token(token, tsecret)"
   ]
  },
  {
   "cell_type": "code",
   "execution_count": 4,
   "metadata": {
    "collapsed": true
   },
   "outputs": [],
   "source": [
    "sid = SentimentIntensityAnalyzer()"
   ]
  },
  {
   "cell_type": "code",
   "execution_count": 5,
   "metadata": {
    "collapsed": false
   },
   "outputs": [
    {
     "name": "stderr",
     "output_type": "stream",
     "text": [
      "ERROR:cassandra.connection:Closing connection <AsyncoreConnection(198025960) 172.17.136.41:9042> due to protocol error: code=000a [Protocol error] message=\"Invalid or unsupported protocol version: 4\"\n",
      "WARNING:cassandra.cluster:Downgrading core protocol version from 4 to 3 for 172.17.136.41\n"
     ]
    }
   ],
   "source": [
    "cluster = Cluster(['172.17.136.41'])\n",
    "session = cluster.connect('tweets')"
   ]
  },
  {
   "cell_type": "code",
   "execution_count": 6,
   "metadata": {
    "collapsed": false
   },
   "outputs": [],
   "source": [
    "insert = session.prepare(\"INSERT INTO tweets (id, timestamp, text, weight) VALUES (?,?,?,?)\")\n",
    "insert.consistency_level = ConsistencyLevel.ONE"
   ]
  },
  {
   "cell_type": "code",
   "execution_count": 7,
   "metadata": {
    "collapsed": false
   },
   "outputs": [],
   "source": [
    "class listener(StreamListener):\n",
    "\n",
    "    def on_data(self, data):\n",
    "        d = json.loads(data)\n",
    "        try:\n",
    "            ctext = re.sub(r\"http\\S+\", \"\", d[u\"text\"].strip())\n",
    "            sent = sid.polarity_scores(ctext)\n",
    "            #tuple (id,created_at,text,sentiment(-1 to 1))\n",
    "            x = (d[\"id\"],datetime.datetime.strptime(d[\"created_at\"], \"%a %b %d %H:%M:%S %z %Y\"),ctext,sent[\"compound\"])\n",
    "            #print(x)\n",
    "            session.execute(insert, x)\n",
    "            return(True)\n",
    "        except Exception:\n",
    "            pass\n",
    "\n",
    "    def on_error(self, errcode):\n",
    "        print(errcode)"
   ]
  },
  {
   "cell_type": "code",
   "execution_count": null,
   "metadata": {
    "collapsed": false,
    "scrolled": true
   },
   "outputs": [],
   "source": [
    "#start the stream of tweets, filter on topic\n",
    "while True:\n",
    "    try:\n",
    "        streamer = Stream(auth, listener())\n",
    "        streamer.filter(track=[\"clinton\", \"sanders\", \"bernie\", \"hillary\"])\n",
    "    except Exception:\n",
    "        pass"
   ]
  },
  {
   "cell_type": "markdown",
   "metadata": {},
   "source": [
    "## Solr Queries\n",
    "Query the solr instance to get aggregate sentiment for a particular date range"
   ]
  },
  {
   "cell_type": "code",
   "execution_count": 8,
   "metadata": {
    "collapsed": false
   },
   "outputs": [],
   "source": [
    "cx = urlopen(\"http://172.17.136.41:8983/solr/tweets.tweets/select?q=text:(bernie+OR+sanders)&timestamp:[\\\"2016-02-12T02:00:00Z\\\"+TO+\\\"2016-02-12T04:20:00Z\\\"]\\\n",
    "&stats=true&stats.field=weight&rows=0&wt=json\").read()\n",
    "d = json.loads(cx.decode())"
   ]
  },
  {
   "cell_type": "code",
   "execution_count": 9,
   "metadata": {
    "collapsed": false
   },
   "outputs": [
    {
     "data": {
      "text/plain": [
       "0.03541715942420903"
      ]
     },
     "execution_count": 9,
     "metadata": {},
     "output_type": "execute_result"
    }
   ],
   "source": [
    "d[\"stats\"][\"stats_fields\"][\"weight\"][\"mean\"]"
   ]
  },
  {
   "cell_type": "code",
   "execution_count": 10,
   "metadata": {
    "collapsed": false
   },
   "outputs": [],
   "source": [
    "cx = urlopen(\"http://172.17.136.41:8983/solr/tweets.tweets/select?q=text:(bernie+OR+sanders)&facet=true&facet.date=timestamp&facet.date.start=\\\n",
    "2016-02-12T03:10:00Z&facet.date.end=2016-02-12T04:10:00Z&facet.date.gap=%2B10MINUTE&stats=true&stats.field=weight&rows=0&wt=json\").read()\n",
    "d = json.loads(cx.decode())\n",
    "cx1 = urlopen(\"http://172.17.136.41:8983/solr/tweets.tweets/select?q=text:(hillary+OR+clinton)&facet=true&facet.date=timestamp&facet.date.start=\\\n",
    "2016-02-12T03:10:00Z&facet.date.end=2016-02-12T04:10:00Z&facet.date.gap=%2B10MINUTE&stats=true&stats.field=weight&rows=0&wt=json\").read()\n",
    "d1 = json.loads(cx1.decode())\n",
    "#http://172.17.136.41:8983/solr/tweets.tweets/select?q=text:*&facet=true&facet.range={!tag=r1}timestamp&facet.range.start=2016-02-12T03:10:00Z&facet.range.end=2016-02-12T04:10:00Z&facet.range.gap=%2B10MINUTE&facet.pivot={!range=r1}weight&stats=true&stats.field=weight&rows=0&wt=json"
   ]
  },
  {
   "cell_type": "markdown",
   "metadata": {},
   "source": [
    "## Graphs"
   ]
  },
  {
   "cell_type": "code",
   "execution_count": 11,
   "metadata": {
    "collapsed": false
   },
   "outputs": [
    {
     "data": {
      "text/html": [
       "\n",
       "    <div class=\"bk-banner\">\n",
       "        <a href=\"http://bokeh.pydata.org\" target=\"_blank\" class=\"bk-logo bk-logo-small bk-logo-notebook\"></a>\n",
       "        <span id=\"932804d7-df71-4093-ad70-bf1eb607672b\">Loading BokehJS ...</span>\n",
       "    </div>"
      ]
     },
     "metadata": {},
     "output_type": "display_data"
    },
    {
     "data": {
      "application/javascript": [
       "\n",
       "(function(global) {\n",
       "  function now() {\n",
       "    return new Date();\n",
       "  }\n",
       "\n",
       "  if (typeof (window._bokeh_onload_callbacks) === \"undefined\") {\n",
       "    window._bokeh_onload_callbacks = [];\n",
       "  }\n",
       "\n",
       "  function run_callbacks() {\n",
       "    window._bokeh_onload_callbacks.forEach(function(callback) { callback() });\n",
       "    delete window._bokeh_onload_callbacks\n",
       "    console.info(\"Bokeh: all callbacks have finished\");\n",
       "  }\n",
       "\n",
       "  function load_libs(js_urls, callback) {\n",
       "    window._bokeh_onload_callbacks.push(callback);\n",
       "    if (window._bokeh_is_loading > 0) {\n",
       "      console.log(\"Bokeh: BokehJS is being loaded, scheduling callback at\", now());\n",
       "      return null;\n",
       "    }\n",
       "    if (js_urls == null || js_urls.length === 0) {\n",
       "      run_callbacks();\n",
       "      return null;\n",
       "    }\n",
       "    console.log(\"Bokeh: BokehJS not loaded, scheduling load and callback at\", now());\n",
       "    window._bokeh_is_loading = js_urls.length;\n",
       "    for (var i = 0; i < js_urls.length; i++) {\n",
       "      var url = js_urls[i];\n",
       "      var s = document.createElement('script');\n",
       "      s.src = url;\n",
       "      s.async = false;\n",
       "      s.onreadystatechange = s.onload = function() {\n",
       "        window._bokeh_is_loading--;\n",
       "        if (window._bokeh_is_loading === 0) {\n",
       "          console.log(\"Bokeh: all BokehJS libraries loaded\");\n",
       "          run_callbacks()\n",
       "        }\n",
       "      };\n",
       "      s.onerror = function() {\n",
       "        console.warn(\"failed to load library \" + url);\n",
       "      };\n",
       "      console.log(\"Bokeh: injecting script tag for BokehJS library: \", url);\n",
       "      document.getElementsByTagName(\"head\")[0].appendChild(s);\n",
       "    }\n",
       "  };\n",
       "\n",
       "  var js_urls = ['https://cdn.pydata.org/bokeh/release/bokeh-0.11.1.min.js', 'https://cdn.pydata.org/bokeh/release/bokeh-widgets-0.11.1.min.js', 'https://cdn.pydata.org/bokeh/release/bokeh-compiler-0.11.1.min.js'];\n",
       "\n",
       "  var inline_js = [\n",
       "    function(Bokeh) {\n",
       "      Bokeh.set_log_level(\"info\");\n",
       "    },\n",
       "    \n",
       "    function(Bokeh) {\n",
       "      Bokeh.$(\"#932804d7-df71-4093-ad70-bf1eb607672b\").text(\"BokehJS successfully loaded\");\n",
       "    },\n",
       "    function(Bokeh) {\n",
       "      console.log(\"Bokeh: injecting CSS: https://cdn.pydata.org/bokeh/release/bokeh-0.11.1.min.css\");\n",
       "      Bokeh.embed.inject_css(\"https://cdn.pydata.org/bokeh/release/bokeh-0.11.1.min.css\");\n",
       "      console.log(\"Bokeh: injecting CSS: https://cdn.pydata.org/bokeh/release/bokeh-widgets-0.11.1.min.css\");\n",
       "      Bokeh.embed.inject_css(\"https://cdn.pydata.org/bokeh/release/bokeh-widgets-0.11.1.min.css\");\n",
       "    }\n",
       "  ];\n",
       "\n",
       "  function run_inline_js() {\n",
       "    for (var i = 0; i < inline_js.length; i++) {\n",
       "      inline_js[i](window.Bokeh);\n",
       "    }\n",
       "  }\n",
       "\n",
       "  if (window._bokeh_is_loading === 0) {\n",
       "    console.log(\"Bokeh: BokehJS loaded, going straight to plotting\");\n",
       "    run_inline_js();\n",
       "  } else {\n",
       "    load_libs(js_urls, function() {\n",
       "      console.log(\"Bokeh: BokehJS plotting callback run at\", now());\n",
       "      run_inline_js();\n",
       "    });\n",
       "  }\n",
       "}(this));"
      ]
     },
     "metadata": {},
     "output_type": "display_data"
    }
   ],
   "source": [
    "output_notebook()"
   ]
  },
  {
   "cell_type": "code",
   "execution_count": 12,
   "metadata": {
    "collapsed": false
   },
   "outputs": [],
   "source": [
    "df = json_normalize(d[\"facet_counts\"][\"facet_dates\"][\"timestamp\"])\n",
    "df = df.T\n",
    "df = df.drop(['end', 'gap', 'start'])\n",
    "df.columns=[\"mentions\"]\n",
    "df = df.reset_index()\n",
    "df1 = json_normalize(d1[\"facet_counts\"][\"facet_dates\"][\"timestamp\"])\n",
    "df1 = df1.T\n",
    "df1 = df1.drop(['end', 'gap', 'start'])\n",
    "df1.columns=[\"mentions\"]\n",
    "df1 = df1.reset_index()"
   ]
  },
  {
   "cell_type": "code",
   "execution_count": 13,
   "metadata": {
    "collapsed": false
   },
   "outputs": [
    {
     "data": {
      "text/html": [
       "\n",
       "\n",
       "    <div class=\"plotdiv\" id=\"6098ec4c-9ce9-4ecc-976c-717080561c20\"></div>\n",
       "<script type=\"text/javascript\">\n",
       "  \n",
       "  (function(global) {\n",
       "    function now() {\n",
       "      return new Date();\n",
       "    }\n",
       "  \n",
       "    if (typeof (window._bokeh_onload_callbacks) === \"undefined\") {\n",
       "      window._bokeh_onload_callbacks = [];\n",
       "    }\n",
       "  \n",
       "    function run_callbacks() {\n",
       "      window._bokeh_onload_callbacks.forEach(function(callback) { callback() });\n",
       "      delete window._bokeh_onload_callbacks\n",
       "      console.info(\"Bokeh: all callbacks have finished\");\n",
       "    }\n",
       "  \n",
       "    function load_libs(js_urls, callback) {\n",
       "      window._bokeh_onload_callbacks.push(callback);\n",
       "      if (window._bokeh_is_loading > 0) {\n",
       "        console.log(\"Bokeh: BokehJS is being loaded, scheduling callback at\", now());\n",
       "        return null;\n",
       "      }\n",
       "      if (js_urls == null || js_urls.length === 0) {\n",
       "        run_callbacks();\n",
       "        return null;\n",
       "      }\n",
       "      console.log(\"Bokeh: BokehJS not loaded, scheduling load and callback at\", now());\n",
       "      window._bokeh_is_loading = js_urls.length;\n",
       "      for (var i = 0; i < js_urls.length; i++) {\n",
       "        var url = js_urls[i];\n",
       "        var s = document.createElement('script');\n",
       "        s.src = url;\n",
       "        s.async = false;\n",
       "        s.onreadystatechange = s.onload = function() {\n",
       "          window._bokeh_is_loading--;\n",
       "          if (window._bokeh_is_loading === 0) {\n",
       "            console.log(\"Bokeh: all BokehJS libraries loaded\");\n",
       "            run_callbacks()\n",
       "          }\n",
       "        };\n",
       "        s.onerror = function() {\n",
       "          console.warn(\"failed to load library \" + url);\n",
       "        };\n",
       "        console.log(\"Bokeh: injecting script tag for BokehJS library: \", url);\n",
       "        document.getElementsByTagName(\"head\")[0].appendChild(s);\n",
       "      }\n",
       "    };var element = document.getElementById(\"6098ec4c-9ce9-4ecc-976c-717080561c20\");\n",
       "    if (element == null) {\n",
       "      console.log(\"Bokeh: ERROR: autoload.js configured with elementid '6098ec4c-9ce9-4ecc-976c-717080561c20' but no matching script tag was found. \")\n",
       "      return false;\n",
       "    }\n",
       "  \n",
       "    var js_urls = [];\n",
       "  \n",
       "    var inline_js = [\n",
       "      function(Bokeh) {\n",
       "        Bokeh.$(function() {\n",
       "            var docs_json = {\"d85f8312-3670-4b0c-8493-d7200333fb87\":{\"roots\":{\"references\":[{\"attributes\":{\"legends\":[[\"sanders\",[{\"id\":\"faf7fbb4-b3dd-4b31-abcf-a7e0a45a00db\",\"type\":\"GlyphRenderer\"}]],[\"clinton\",[{\"id\":\"728be4b9-a78a-458f-aa5a-c76df8d30bdd\",\"type\":\"GlyphRenderer\"}]]],\"location\":\"top_left\",\"plot\":{\"id\":\"82903102-cc21-4113-ba24-6f8d192ae348\",\"subtype\":\"Figure\",\"type\":\"Plot\"}},\"id\":\"e50bbba5-aa2c-4ac3-b434-91a8eeddc93f\",\"type\":\"Legend\"},{\"attributes\":{\"plot\":{\"id\":\"82903102-cc21-4113-ba24-6f8d192ae348\",\"subtype\":\"Figure\",\"type\":\"Plot\"}},\"id\":\"bbb132b5-7d96-47c9-aa50-54729a226450\",\"type\":\"HelpTool\"},{\"attributes\":{\"max_interval\":500.0,\"num_minor_ticks\":0},\"id\":\"378aa499-58d9-4c6e-8de2-71e05385d0e8\",\"type\":\"AdaptiveTicker\"},{\"attributes\":{\"data_source\":{\"id\":\"08409295-2b74-44a2-80eb-308df344db7f\",\"type\":\"ColumnDataSource\"},\"glyph\":{\"id\":\"11ebdb66-84a5-42a7-ac2a-955184535fb8\",\"type\":\"Line\"},\"hover_glyph\":null,\"nonselection_glyph\":{\"id\":\"ccd22b9f-9b06-44d8-a7ef-efd0c9563f0b\",\"type\":\"Line\"},\"selection_glyph\":null},\"id\":\"728be4b9-a78a-458f-aa5a-c76df8d30bdd\",\"type\":\"GlyphRenderer\"},{\"attributes\":{\"below\":[{\"id\":\"db24763e-1a78-43ff-9805-d6a1b932954d\",\"type\":\"DatetimeAxis\"}],\"left\":[{\"id\":\"ffb72189-5dd5-432b-88bd-3d9f098edb28\",\"type\":\"LinearAxis\"}],\"plot_height\":400,\"plot_width\":400,\"renderers\":[{\"id\":\"db24763e-1a78-43ff-9805-d6a1b932954d\",\"type\":\"DatetimeAxis\"},{\"id\":\"139ea10c-0158-4282-ae9a-ba944c30d80a\",\"type\":\"Grid\"},{\"id\":\"ffb72189-5dd5-432b-88bd-3d9f098edb28\",\"type\":\"LinearAxis\"},{\"id\":\"105496ea-c5c5-4504-9a8b-3b06d3af9258\",\"type\":\"Grid\"},{\"id\":\"cea5c115-9317-43bd-bac0-1aca0e1b337a\",\"type\":\"BoxAnnotation\"},{\"id\":\"e50bbba5-aa2c-4ac3-b434-91a8eeddc93f\",\"type\":\"Legend\"},{\"id\":\"faf7fbb4-b3dd-4b31-abcf-a7e0a45a00db\",\"type\":\"GlyphRenderer\"},{\"id\":\"728be4b9-a78a-458f-aa5a-c76df8d30bdd\",\"type\":\"GlyphRenderer\"}],\"title\":\"Mentions\",\"tool_events\":{\"id\":\"c641c1b8-e244-4ab9-86af-d65be214050b\",\"type\":\"ToolEvents\"},\"tools\":[{\"id\":\"71f7a729-b2ea-4d9b-8369-d6ce99b54a24\",\"type\":\"PanTool\"},{\"id\":\"fccd6090-7548-4766-8678-fd274c72d584\",\"type\":\"WheelZoomTool\"},{\"id\":\"2d0a9fc4-6e86-4428-bcf6-dce69fba85e9\",\"type\":\"BoxZoomTool\"},{\"id\":\"ddfe1980-45ae-4d67-abfb-ee470a02cde1\",\"type\":\"PreviewSaveTool\"},{\"id\":\"a38f2692-c68f-4c1c-a206-831ab37f6c3c\",\"type\":\"ResizeTool\"},{\"id\":\"494d864e-61d7-4f80-8a0a-d46c1683fa62\",\"type\":\"ResetTool\"},{\"id\":\"bbb132b5-7d96-47c9-aa50-54729a226450\",\"type\":\"HelpTool\"}],\"x_range\":{\"id\":\"b14051c3-9a53-4dcc-9e10-e85f7a56a018\",\"type\":\"DataRange1d\"},\"y_range\":{\"id\":\"a2c2a052-eb09-49b2-9e09-e34cb3e79aa6\",\"type\":\"DataRange1d\"}},\"id\":\"82903102-cc21-4113-ba24-6f8d192ae348\",\"subtype\":\"Figure\",\"type\":\"Plot\"},{\"attributes\":{\"data_source\":{\"id\":\"0593ced6-7ecd-4c7d-bdd2-0a754a83fc55\",\"type\":\"ColumnDataSource\"},\"glyph\":{\"id\":\"5f9ea992-1f35-4060-af09-c6e32e39951a\",\"type\":\"Line\"},\"hover_glyph\":null,\"nonselection_glyph\":{\"id\":\"424f95c2-24c3-4049-8c10-f541f0d9463c\",\"type\":\"Line\"},\"selection_glyph\":null},\"id\":\"faf7fbb4-b3dd-4b31-abcf-a7e0a45a00db\",\"type\":\"GlyphRenderer\"},{\"attributes\":{\"plot\":{\"id\":\"82903102-cc21-4113-ba24-6f8d192ae348\",\"subtype\":\"Figure\",\"type\":\"Plot\"}},\"id\":\"494d864e-61d7-4f80-8a0a-d46c1683fa62\",\"type\":\"ResetTool\"},{\"attributes\":{\"base\":60,\"mantissas\":[1,2,5,10,15,20,30],\"max_interval\":1800000.0,\"min_interval\":1000.0,\"num_minor_ticks\":0},\"id\":\"c3c4b0da-a053-4108-9108-4d9f0fa36d12\",\"type\":\"AdaptiveTicker\"},{\"attributes\":{\"months\":[0,4,8]},\"id\":\"749ca9f7-2078-4dbb-b4af-40a911d140ab\",\"type\":\"MonthsTicker\"},{\"attributes\":{\"bottom_units\":\"screen\",\"fill_alpha\":{\"value\":0.5},\"fill_color\":{\"value\":\"lightgrey\"},\"left_units\":\"screen\",\"level\":\"overlay\",\"line_alpha\":{\"value\":1.0},\"line_color\":{\"value\":\"black\"},\"line_dash\":[4,4],\"line_width\":{\"value\":2},\"plot\":null,\"render_mode\":\"css\",\"right_units\":\"screen\",\"top_units\":\"screen\"},\"id\":\"cea5c115-9317-43bd-bac0-1aca0e1b337a\",\"type\":\"BoxAnnotation\"},{\"attributes\":{\"line_alpha\":{\"value\":0.1},\"line_color\":{\"value\":\"#1f77b4\"},\"x\":{\"field\":\"x\"},\"y\":{\"field\":\"y\"}},\"id\":\"424f95c2-24c3-4049-8c10-f541f0d9463c\",\"type\":\"Line\"},{\"attributes\":{\"days\":[1,2,3,4,5,6,7,8,9,10,11,12,13,14,15,16,17,18,19,20,21,22,23,24,25,26,27,28,29,30,31]},\"id\":\"cb45194a-f3a2-458c-942d-e6cc5381f036\",\"type\":\"DaysTicker\"},{\"attributes\":{\"formatter\":{\"id\":\"3ccc1558-63aa-4578-8a34-340a178266aa\",\"type\":\"BasicTickFormatter\"},\"plot\":{\"id\":\"82903102-cc21-4113-ba24-6f8d192ae348\",\"subtype\":\"Figure\",\"type\":\"Plot\"},\"ticker\":{\"id\":\"f398a17b-1de3-4d97-a9a6-24a563cc4804\",\"type\":\"BasicTicker\"}},\"id\":\"ffb72189-5dd5-432b-88bd-3d9f098edb28\",\"type\":\"LinearAxis\"},{\"attributes\":{},\"id\":\"f398a17b-1de3-4d97-a9a6-24a563cc4804\",\"type\":\"BasicTicker\"},{\"attributes\":{\"months\":[0,1,2,3,4,5,6,7,8,9,10,11]},\"id\":\"b348e4f2-5e17-400e-b5d1-36feede1fa9c\",\"type\":\"MonthsTicker\"},{\"attributes\":{\"callback\":null},\"id\":\"b14051c3-9a53-4dcc-9e10-e85f7a56a018\",\"type\":\"DataRange1d\"},{\"attributes\":{\"line_alpha\":{\"value\":0.1},\"line_color\":{\"value\":\"#1f77b4\"},\"x\":{\"field\":\"x\"},\"y\":{\"field\":\"y\"}},\"id\":\"ccd22b9f-9b06-44d8-a7ef-efd0c9563f0b\",\"type\":\"Line\"},{\"attributes\":{},\"id\":\"ca7c703e-daaf-4692-8161-e4896146b922\",\"type\":\"YearsTicker\"},{\"attributes\":{\"overlay\":{\"id\":\"cea5c115-9317-43bd-bac0-1aca0e1b337a\",\"type\":\"BoxAnnotation\"},\"plot\":{\"id\":\"82903102-cc21-4113-ba24-6f8d192ae348\",\"subtype\":\"Figure\",\"type\":\"Plot\"}},\"id\":\"2d0a9fc4-6e86-4428-bcf6-dce69fba85e9\",\"type\":\"BoxZoomTool\"},{\"attributes\":{},\"id\":\"c641c1b8-e244-4ab9-86af-d65be214050b\",\"type\":\"ToolEvents\"},{\"attributes\":{\"line_color\":{\"value\":\"#1f77b4\"},\"x\":{\"field\":\"x\"},\"y\":{\"field\":\"y\"}},\"id\":\"5f9ea992-1f35-4060-af09-c6e32e39951a\",\"type\":\"Line\"},{\"attributes\":{\"plot\":{\"id\":\"82903102-cc21-4113-ba24-6f8d192ae348\",\"subtype\":\"Figure\",\"type\":\"Plot\"}},\"id\":\"71f7a729-b2ea-4d9b-8369-d6ce99b54a24\",\"type\":\"PanTool\"},{\"attributes\":{\"line_color\":{\"value\":\"red\"},\"x\":{\"field\":\"x\"},\"y\":{\"field\":\"y\"}},\"id\":\"11ebdb66-84a5-42a7-ac2a-955184535fb8\",\"type\":\"Line\"},{\"attributes\":{\"callback\":null,\"column_names\":[\"y\",\"x\"],\"data\":{\"x\":[1455246600000.0,1455247200000.0,1455247800000.0,1455248400000.0,1455249000000.0,1455249600000.0],\"y\":[577,1879,4112,4818,4920,140]}},\"id\":\"08409295-2b74-44a2-80eb-308df344db7f\",\"type\":\"ColumnDataSource\"},{\"attributes\":{},\"id\":\"3ccc1558-63aa-4578-8a34-340a178266aa\",\"type\":\"BasicTickFormatter\"},{\"attributes\":{\"base\":24,\"mantissas\":[1,2,4,6,8,12],\"max_interval\":43200000.0,\"min_interval\":3600000.0,\"num_minor_ticks\":0},\"id\":\"7529552a-271e-4791-b8e0-0f4cf18a1388\",\"type\":\"AdaptiveTicker\"},{\"attributes\":{\"months\":[0,6]},\"id\":\"37479e04-4fae-4331-8e4f-f0d5bc7062d1\",\"type\":\"MonthsTicker\"},{\"attributes\":{\"plot\":{\"id\":\"82903102-cc21-4113-ba24-6f8d192ae348\",\"subtype\":\"Figure\",\"type\":\"Plot\"}},\"id\":\"a38f2692-c68f-4c1c-a206-831ab37f6c3c\",\"type\":\"ResizeTool\"},{\"attributes\":{\"days\":[1,15]},\"id\":\"583619fb-82bc-4906-ac76-e60b2bd61fa6\",\"type\":\"DaysTicker\"},{\"attributes\":{\"callback\":null,\"column_names\":[\"x\",\"y\"],\"data\":{\"x\":[1455246600000.0,1455247200000.0,1455247800000.0,1455248400000.0,1455249000000.0,1455249600000.0],\"y\":[563,2443,4600,5878,5316,123]}},\"id\":\"0593ced6-7ecd-4c7d-bdd2-0a754a83fc55\",\"type\":\"ColumnDataSource\"},{\"attributes\":{\"plot\":{\"id\":\"82903102-cc21-4113-ba24-6f8d192ae348\",\"subtype\":\"Figure\",\"type\":\"Plot\"}},\"id\":\"ddfe1980-45ae-4d67-abfb-ee470a02cde1\",\"type\":\"PreviewSaveTool\"},{\"attributes\":{\"days\":[1,4,7,10,13,16,19,22,25,28]},\"id\":\"b0b14c73-f4ff-462a-8db7-47359c017183\",\"type\":\"DaysTicker\"},{\"attributes\":{\"num_minor_ticks\":5},\"id\":\"46983b21-7180-463c-a188-82ab2414804a\",\"type\":\"DatetimeTicker\"},{\"attributes\":{},\"id\":\"ec445012-cead-4e79-83cc-8e2dab042725\",\"type\":\"DatetimeTickFormatter\"},{\"attributes\":{\"dimension\":1,\"plot\":{\"id\":\"82903102-cc21-4113-ba24-6f8d192ae348\",\"subtype\":\"Figure\",\"type\":\"Plot\"},\"ticker\":{\"id\":\"f398a17b-1de3-4d97-a9a6-24a563cc4804\",\"type\":\"BasicTicker\"}},\"id\":\"105496ea-c5c5-4504-9a8b-3b06d3af9258\",\"type\":\"Grid\"},{\"attributes\":{\"months\":[0,2,4,6,8,10]},\"id\":\"ac9d68f1-680d-4e4d-b574-e6cdadf6dea2\",\"type\":\"MonthsTicker\"},{\"attributes\":{\"plot\":{\"id\":\"82903102-cc21-4113-ba24-6f8d192ae348\",\"subtype\":\"Figure\",\"type\":\"Plot\"},\"ticker\":{\"id\":\"46983b21-7180-463c-a188-82ab2414804a\",\"type\":\"DatetimeTicker\"}},\"id\":\"139ea10c-0158-4282-ae9a-ba944c30d80a\",\"type\":\"Grid\"},{\"attributes\":{\"callback\":null},\"id\":\"a2c2a052-eb09-49b2-9e09-e34cb3e79aa6\",\"type\":\"DataRange1d\"},{\"attributes\":{\"formatter\":{\"id\":\"ec445012-cead-4e79-83cc-8e2dab042725\",\"type\":\"DatetimeTickFormatter\"},\"plot\":{\"id\":\"82903102-cc21-4113-ba24-6f8d192ae348\",\"subtype\":\"Figure\",\"type\":\"Plot\"},\"ticker\":{\"id\":\"46983b21-7180-463c-a188-82ab2414804a\",\"type\":\"DatetimeTicker\"}},\"id\":\"db24763e-1a78-43ff-9805-d6a1b932954d\",\"type\":\"DatetimeAxis\"},{\"attributes\":{\"days\":[1,8,15,22]},\"id\":\"cfc81a54-1bdf-41cf-9462-074599701f38\",\"type\":\"DaysTicker\"},{\"attributes\":{\"plot\":{\"id\":\"82903102-cc21-4113-ba24-6f8d192ae348\",\"subtype\":\"Figure\",\"type\":\"Plot\"}},\"id\":\"fccd6090-7548-4766-8678-fd274c72d584\",\"type\":\"WheelZoomTool\"}],\"root_ids\":[\"82903102-cc21-4113-ba24-6f8d192ae348\"]},\"title\":\"Bokeh Application\",\"version\":\"0.11.1\"}};\n",
       "            var render_items = [{\"docid\":\"d85f8312-3670-4b0c-8493-d7200333fb87\",\"elementid\":\"6098ec4c-9ce9-4ecc-976c-717080561c20\",\"modelid\":\"82903102-cc21-4113-ba24-6f8d192ae348\",\"notebook_comms_target\":\"e25d6a40-128a-4459-9f6d-2ec3adc343d9\"}];\n",
       "            \n",
       "            Bokeh.embed.embed_items(docs_json, render_items);\n",
       "        });\n",
       "      },\n",
       "      function(Bokeh) {\n",
       "      }\n",
       "    ];\n",
       "  \n",
       "    function run_inline_js() {\n",
       "      for (var i = 0; i < inline_js.length; i++) {\n",
       "        inline_js[i](window.Bokeh);\n",
       "      }\n",
       "    }\n",
       "  \n",
       "    if (window._bokeh_is_loading === 0) {\n",
       "      console.log(\"Bokeh: BokehJS loaded, going straight to plotting\");\n",
       "      run_inline_js();\n",
       "    } else {\n",
       "      load_libs(js_urls, function() {\n",
       "        console.log(\"Bokeh: BokehJS plotting callback run at\", now());\n",
       "        run_inline_js();\n",
       "      });\n",
       "    }\n",
       "  }(this));\n",
       "</script>"
      ]
     },
     "metadata": {},
     "output_type": "display_data"
    },
    {
     "data": {
      "text/html": [
       "<p><code>&lt;Bokeh Notebook handle for <strong>In[13]</strong>&gt;</code></p>"
      ],
      "text/plain": [
       "<bokeh.io._CommsHandle at 0xbd2ee10>"
      ]
     },
     "execution_count": 13,
     "metadata": {},
     "output_type": "execute_result"
    }
   ],
   "source": [
    "p = figure(width=400, height=400, x_axis_type=\"datetime\", title=\"Mentions\")\n",
    "p.line(pd.to_datetime(df[\"index\"]), df[\"mentions\"], legend=\"sanders\")\n",
    "p.line(pd.to_datetime(df1[\"index\"]), df1[\"mentions\"], legend=\"clinton\", color=\"red\")\n",
    "p.legend.location = \"top_left\"\n",
    "show(p)"
   ]
  },
  {
   "cell_type": "markdown",
   "metadata": {},
   "source": [
    "## Data Model"
   ]
  },
  {
   "cell_type": "code",
   "execution_count": null,
   "metadata": {
    "collapsed": true
   },
   "outputs": [],
   "source": [
    "'''\n",
    "cqlsh:tweets> DESC tweets\n",
    "\n",
    "CREATE KEYSPACE tweets WITH replication = {'class': 'NetworkTopologyStrategy', 'Cassandra': '1', 'Solr': '1'} \\\n",
    "AND durable_writes = true;\n",
    "\n",
    "CREATE TABLE tweets.tweets (\n",
    "    id varint,\n",
    "    timestamp timestamp,\n",
    "    solr_query text,\n",
    "    text text,\n",
    "    weight float,\n",
    "    PRIMARY KEY (id, timestamp)\n",
    ") WITH CLUSTERING ORDER BY (timestamp ASC)\n",
    "    AND bloom_filter_fp_chance = 0.01\n",
    "    AND caching = '{\"keys\":\"ALL\", \"rows_per_partition\":\"NONE\"}'\n",
    "    AND comment = ''\n",
    "    AND compaction = {'class': 'org.apache.cassandra.db.compaction.SizeTieredCompactionStrategy'}\n",
    "    AND compression = {'sstable_compression': 'org.apache.cassandra.io.compress.LZ4Compressor'}\n",
    "    AND dclocal_read_repair_chance = 0.1\n",
    "    AND default_time_to_live = 0\n",
    "    AND gc_grace_seconds = 864000\n",
    "    AND max_index_interval = 2048\n",
    "    AND memtable_flush_period_in_ms = 0\n",
    "    AND min_index_interval = 128\n",
    "    AND read_repair_chance = 0.0\n",
    "    AND speculative_retry = '99.0PERCENTILE';\n",
    "'''"
   ]
  },
  {
   "cell_type": "markdown",
   "metadata": {},
   "source": [
    "## Resources"
   ]
  },
  {
   "cell_type": "code",
   "execution_count": null,
   "metadata": {
    "collapsed": true
   },
   "outputs": [],
   "source": [
    "Hutto, C.J. & Gilbert, E.E. (2014). VADER: A Parsimonious Rule-based Model for Sentiment Analysis of Social Media Text.\\\n",
    "    Eighth International Conference on Weblogs and Social Media (ICWSM-14). Ann Arbor, MI, June 2014. "
   ]
  }
 ],
 "metadata": {
  "kernelspec": {
   "display_name": "Python 3",
   "language": "python",
   "name": "python3"
  },
  "language_info": {
   "codemirror_mode": {
    "name": "ipython",
    "version": 3
   },
   "file_extension": ".py",
   "mimetype": "text/x-python",
   "name": "python",
   "nbconvert_exporter": "python",
   "pygments_lexer": "ipython3",
   "version": "3.5.1"
  }
 },
 "nbformat": 4,
 "nbformat_minor": 0
}

{
 "cells": [
  {
   "cell_type": "markdown",
   "metadata": {},
   "source": [
    "## twitter-sentiment\n",
    "#### Jeff Oxenberg\n",
    "\n",
    "* Monitor a specific topic/set of topics on twitter, score sentiment of tweets using the vader model\n",
    "* Insert tweets into Cassandra\n",
    "* Cassandra table is indexed by Solr (using DataStax Enterprise)\n",
    "* Solr can be used to search for specific terms, get time-based averages, etc"
   ]
  },
  {
   "cell_type": "code",
   "execution_count": null,
   "metadata": {
    "collapsed": false
   },
   "outputs": [],
   "source": [
    "from tweepy.streaming import StreamListener\n",
    "from tweepy import Stream\n",
    "from tweepy import OAuthHandler\n",
    "from cassandra.cluster import Cluster\n",
    "from cassandra.query import PreparedStatement\n",
    "from cassandra import ConsistencyLevel\n",
    "from nltk.sentiment.vader import SentimentIntensityAnalyzer\n",
    "from nltk import tokenize\n",
    "from urllib.request import urlopen\n",
    "import json\n",
    "import datetime\n",
    "import re"
   ]
  },
  {
   "cell_type": "code",
   "execution_count": null,
   "metadata": {
    "collapsed": false
   },
   "outputs": [],
   "source": [
    "#supply your own values here\n",
    "key=x\n",
    "ksecret=x\n",
    "token=x\n",
    "tsecret=x\n",
    "\n",
    "#authenticate\n",
    "auth = OAuthHandler(key, ksecret)\n",
    "auth.set_access_token(token, tsecret)"
   ]
  },
  {
   "cell_type": "code",
   "execution_count": null,
   "metadata": {
    "collapsed": true
   },
   "outputs": [],
   "source": [
    "sid = SentimentIntensityAnalyzer()"
   ]
  },
  {
   "cell_type": "code",
   "execution_count": null,
   "metadata": {
    "collapsed": false
   },
   "outputs": [],
   "source": [
    "cluster = Cluster(['localhost'])\n",
    "session = cluster.connect('tweets')"
   ]
  },
  {
   "cell_type": "code",
   "execution_count": null,
   "metadata": {
    "collapsed": false
   },
   "outputs": [],
   "source": [
    "insert = session.prepare(\"INSERT INTO tweets (id, timestamp, text, weight) VALUES (?,?,?,?)\")\n",
    "insert.consistency_level = ConsistencyLevel.ONE"
   ]
  },
  {
   "cell_type": "code",
   "execution_count": null,
   "metadata": {
    "collapsed": false
   },
   "outputs": [],
   "source": [
    "class listener(StreamListener):\n",
    "\n",
    "    def on_data(self, data):\n",
    "        d = json.loads(data)\n",
    "        ctext = re.sub(r\"http\\S+\", \"\", d[\"text\"].strip())\n",
    "        sent = sid.polarity_scores(ctext) \n",
    "        #tuple (id,created_at,text,sentiment(-1 to 1))\n",
    "        x = (d[\"id\"],datetime.datetime.strptime(d[\"created_at\"], \"%a %b %d %H:%M:%S %z %Y\"),ctext,sent[\"compound\"])\n",
    "        #print(x)\n",
    "        session.execute(insert, x)\n",
    "        return(True)\n",
    "\n",
    "    def on_error(self, errcode):\n",
    "        print(errcode)"
   ]
  },
  {
   "cell_type": "code",
   "execution_count": null,
   "metadata": {
    "collapsed": false
   },
   "outputs": [],
   "source": [
    "#start the stream of tweets, filter on topic\n",
    "streamer = Stream(auth, listener())\n",
    "streamer.filter(track=[\"test\"])"
   ]
  },
  {
   "cell_type": "code",
   "execution_count": null,
   "metadata": {
    "collapsed": true
   },
   "outputs": [],
   "source": []
  },
  {
   "cell_type": "code",
   "execution_count": null,
   "metadata": {
    "collapsed": true
   },
   "outputs": [],
   "source": []
  },
  {
   "cell_type": "code",
   "execution_count": null,
   "metadata": {
    "collapsed": true
   },
   "outputs": [],
   "source": []
  },
  {
   "cell_type": "markdown",
   "metadata": {},
   "source": [
    "## Solr Queries\n",
    "Query the solr instance to get aggregate sentiment for a particular date range"
   ]
  },
  {
   "cell_type": "code",
   "execution_count": null,
   "metadata": {
    "collapsed": false
   },
   "outputs": [],
   "source": [
    "cx = urlopen(\"http://172.17.136.41:8983/solr/tweets.tweets/select?q=timestamp:[\\\"2016-02-09T17:23:29Z\\\"+TO+\\\"2016-02-09T17:24:29Z\\\"]\\\n",
    "&stats=true&stats.field=weight&rows=0&wt=json\").read()\n",
    "d = json.loads(cx.decode())"
   ]
  },
  {
   "cell_type": "code",
   "execution_count": null,
   "metadata": {
    "collapsed": false
   },
   "outputs": [],
   "source": [
    "d[\"stats\"][\"stats_fields\"][\"weight\"][\"mean\"]"
   ]
  },
  {
   "cell_type": "code",
   "execution_count": null,
   "metadata": {
    "collapsed": true
   },
   "outputs": [],
   "source": [
    "#add some more interesting queries"
   ]
  },
  {
   "cell_type": "markdown",
   "metadata": {},
   "source": [
    "## Graphs"
   ]
  },
  {
   "cell_type": "code",
   "execution_count": null,
   "metadata": {
    "collapsed": true
   },
   "outputs": [],
   "source": [
    "#add some interesting graphs here"
   ]
  },
  {
   "cell_type": "code",
   "execution_count": null,
   "metadata": {
    "collapsed": true
   },
   "outputs": [],
   "source": []
  },
  {
   "cell_type": "markdown",
   "metadata": {},
   "source": [
    "## Data Model"
   ]
  },
  {
   "cell_type": "code",
   "execution_count": null,
   "metadata": {
    "collapsed": true
   },
   "outputs": [],
   "source": [
    "'''\n",
    "cqlsh:tweets> DESC tweets\n",
    "\n",
    "CREATE KEYSPACE tweets WITH replication = {'class': 'NetworkTopologyStrategy', 'Cassandra': '2', 'Solr': '1'} \\\n",
    "AND durable_writes = true;\n",
    "\n",
    "CREATE TABLE tweets.tweets (\n",
    "    id varint,\n",
    "    timestamp timestamp,\n",
    "    solr_query text,\n",
    "    text text,\n",
    "    weight float,\n",
    "    PRIMARY KEY (id, timestamp)\n",
    ") WITH CLUSTERING ORDER BY (timestamp ASC)\n",
    "    AND bloom_filter_fp_chance = 0.01\n",
    "    AND caching = '{\"keys\":\"ALL\", \"rows_per_partition\":\"NONE\"}'\n",
    "    AND comment = ''\n",
    "    AND compaction = {'class': 'org.apache.cassandra.db.compaction.SizeTieredCompactionStrategy'}\n",
    "    AND compression = {'sstable_compression': 'org.apache.cassandra.io.compress.LZ4Compressor'}\n",
    "    AND dclocal_read_repair_chance = 0.1\n",
    "    AND default_time_to_live = 0\n",
    "    AND gc_grace_seconds = 864000\n",
    "    AND max_index_interval = 2048\n",
    "    AND memtable_flush_period_in_ms = 0\n",
    "    AND min_index_interval = 128\n",
    "    AND read_repair_chance = 0.0\n",
    "    AND speculative_retry = '99.0PERCENTILE';\n",
    "'''"
   ]
  },
  {
   "cell_type": "markdown",
   "metadata": {},
   "source": [
    "## Resources"
   ]
  },
  {
   "cell_type": "code",
   "execution_count": null,
   "metadata": {
    "collapsed": true
   },
   "outputs": [],
   "source": [
    "Hutto, C.J. & Gilbert, E.E. (2014). VADER: A Parsimonious Rule-based Model for Sentiment Analysis of Social Media Text.\\\n",
    "    Eighth International Conference on Weblogs and Social Media (ICWSM-14). Ann Arbor, MI, June 2014. "
   ]
  }
 ],
 "metadata": {
  "kernelspec": {
   "display_name": "Python 3",
   "language": "python",
   "name": "python3"
  },
  "language_info": {
   "codemirror_mode": {
    "name": "ipython",
    "version": 3
   },
   "file_extension": ".py",
   "mimetype": "text/x-python",
   "name": "python",
   "nbconvert_exporter": "python",
   "pygments_lexer": "ipython3",
   "version": "3.5.1"
  }
 },
 "nbformat": 4,
 "nbformat_minor": 0
}
